{
 "cells": [
  {
   "cell_type": "code",
   "execution_count": 6,
   "id": "0943ae18",
   "metadata": {
    "ExecuteTime": {
     "end_time": "2022-02-06T05:33:07.508069Z",
     "start_time": "2022-02-06T05:33:05.340067Z"
    }
   },
   "outputs": [],
   "source": [
    "%matplotlib inline\n",
    "import pandas as pd\n",
    "import numpy as np\n",
    "import torch\n",
    "import torch.autograd as autograd\n",
    "import torch.nn as nn\n",
    "import torch.nn.functional as F \n",
    "import torch.optim as optim\n",
    "from torch.utils.data import Dataset, DataLoader\n",
    "from sklearn.metrics import roc_auc_score"
   ]
  },
  {
   "cell_type": "code",
   "execution_count": 7,
   "id": "3792942a",
   "metadata": {
    "ExecuteTime": {
     "end_time": "2022-02-06T05:33:08.695578Z",
     "start_time": "2022-02-06T05:33:07.509556Z"
    }
   },
   "outputs": [],
   "source": [
    "df_train = pd.read_csv(\"data_hw2/train_books_ratings.csv\")\n",
    "df_valid = pd.read_csv(\"data_hw2/valid_books_ratings.csv\")"
   ]
  },
  {
   "cell_type": "code",
   "execution_count": 8,
   "id": "371893ba",
   "metadata": {
    "ExecuteTime": {
     "end_time": "2022-02-06T05:33:08.703241Z",
     "start_time": "2022-02-06T05:33:08.696469Z"
    }
   },
   "outputs": [
    {
     "data": {
      "text/html": [
       "<div>\n",
       "<style scoped>\n",
       "    .dataframe tbody tr th:only-of-type {\n",
       "        vertical-align: middle;\n",
       "    }\n",
       "\n",
       "    .dataframe tbody tr th {\n",
       "        vertical-align: top;\n",
       "    }\n",
       "\n",
       "    .dataframe thead th {\n",
       "        text-align: right;\n",
       "    }\n",
       "</style>\n",
       "<table border=\"1\" class=\"dataframe\">\n",
       "  <thead>\n",
       "    <tr style=\"text-align: right;\">\n",
       "      <th></th>\n",
       "      <th>user</th>\n",
       "      <th>item</th>\n",
       "      <th>rating</th>\n",
       "      <th>timestamp</th>\n",
       "    </tr>\n",
       "  </thead>\n",
       "  <tbody>\n",
       "    <tr>\n",
       "      <th>0</th>\n",
       "      <td>A2IIIDRK3PRRZY</td>\n",
       "      <td>0000000116</td>\n",
       "      <td>0</td>\n",
       "      <td>1395619200</td>\n",
       "    </tr>\n",
       "    <tr>\n",
       "      <th>1</th>\n",
       "      <td>A9KTKY6BUR8U6</td>\n",
       "      <td>0000013714</td>\n",
       "      <td>0</td>\n",
       "      <td>1357516800</td>\n",
       "    </tr>\n",
       "    <tr>\n",
       "      <th>2</th>\n",
       "      <td>A35OP02LIXZ84E</td>\n",
       "      <td>0000477141</td>\n",
       "      <td>0</td>\n",
       "      <td>1399939200</td>\n",
       "    </tr>\n",
       "    <tr>\n",
       "      <th>3</th>\n",
       "      <td>A9WX8DK93SN5</td>\n",
       "      <td>000100039X</td>\n",
       "      <td>0</td>\n",
       "      <td>1385683200</td>\n",
       "    </tr>\n",
       "    <tr>\n",
       "      <th>4</th>\n",
       "      <td>A36JQ1WC5JQPFQ</td>\n",
       "      <td>000100039X</td>\n",
       "      <td>0</td>\n",
       "      <td>1391990400</td>\n",
       "    </tr>\n",
       "  </tbody>\n",
       "</table>\n",
       "</div>"
      ],
      "text/plain": [
       "             user        item  rating   timestamp\n",
       "0  A2IIIDRK3PRRZY  0000000116       0  1395619200\n",
       "1   A9KTKY6BUR8U6  0000013714       0  1357516800\n",
       "2  A35OP02LIXZ84E  0000477141       0  1399939200\n",
       "3    A9WX8DK93SN5  000100039X       0  1385683200\n",
       "4  A36JQ1WC5JQPFQ  000100039X       0  1391990400"
      ]
     },
     "execution_count": 8,
     "metadata": {},
     "output_type": "execute_result"
    }
   ],
   "source": [
    "df_train.head()"
   ]
  },
  {
   "cell_type": "code",
   "execution_count": 9,
   "id": "fb152ee4",
   "metadata": {
    "ExecuteTime": {
     "end_time": "2022-02-06T05:33:08.706009Z",
     "start_time": "2022-02-06T05:33:08.704548Z"
    }
   },
   "outputs": [],
   "source": [
    "# Encoding the training Users"
   ]
  },
  {
   "cell_type": "code",
   "execution_count": 10,
   "id": "8567cabb",
   "metadata": {
    "ExecuteTime": {
     "end_time": "2022-02-06T05:33:08.999420Z",
     "start_time": "2022-02-06T05:33:08.706671Z"
    }
   },
   "outputs": [
    {
     "data": {
      "text/plain": [
       "1312778"
      ]
     },
     "execution_count": 10,
     "metadata": {},
     "output_type": "execute_result"
    }
   ],
   "source": [
    "len(df_train.user.unique())"
   ]
  },
  {
   "cell_type": "code",
   "execution_count": 11,
   "id": "c035426b",
   "metadata": {
    "ExecuteTime": {
     "end_time": "2022-02-06T05:33:10.466613Z",
     "start_time": "2022-02-06T05:33:09.000192Z"
    }
   },
   "outputs": [],
   "source": [
    "train_user_ids = np.sort(df_train.user.unique())"
   ]
  },
  {
   "cell_type": "code",
   "execution_count": 12,
   "id": "d509f0aa",
   "metadata": {
    "ExecuteTime": {
     "end_time": "2022-02-06T05:33:10.747188Z",
     "start_time": "2022-02-06T05:33:10.467480Z"
    }
   },
   "outputs": [],
   "source": [
    "user2idx = {val:idx for idx, val in enumerate(train_user_ids)}"
   ]
  },
  {
   "cell_type": "code",
   "execution_count": 13,
   "id": "e845a867",
   "metadata": {
    "ExecuteTime": {
     "end_time": "2022-02-06T05:33:11.786032Z",
     "start_time": "2022-02-06T05:33:10.748211Z"
    }
   },
   "outputs": [],
   "source": [
    "df_train.user = df_train.user.apply(lambda x:user2idx[x])"
   ]
  },
  {
   "cell_type": "code",
   "execution_count": 14,
   "id": "3ce08c92",
   "metadata": {
    "ExecuteTime": {
     "end_time": "2022-02-06T05:33:12.002563Z",
     "start_time": "2022-02-06T05:33:11.786974Z"
    }
   },
   "outputs": [],
   "source": [
    "df_valid.user = df_valid.user.apply(lambda x : user2idx.get(x,-1))"
   ]
  },
  {
   "cell_type": "code",
   "execution_count": 15,
   "id": "2080981c",
   "metadata": {
    "ExecuteTime": {
     "end_time": "2022-02-06T05:33:12.021705Z",
     "start_time": "2022-02-06T05:33:12.005394Z"
    }
   },
   "outputs": [],
   "source": [
    "df_valid = df_valid[df_valid.user > -1].copy()"
   ]
  },
  {
   "cell_type": "code",
   "execution_count": 16,
   "id": "2c98fa1d",
   "metadata": {
    "ExecuteTime": {
     "end_time": "2022-02-06T05:33:12.024330Z",
     "start_time": "2022-02-06T05:33:12.022607Z"
    }
   },
   "outputs": [],
   "source": [
    "# Encoding Item"
   ]
  },
  {
   "cell_type": "code",
   "execution_count": 17,
   "id": "91835333",
   "metadata": {
    "ExecuteTime": {
     "end_time": "2022-02-06T05:33:12.030059Z",
     "start_time": "2022-02-06T05:33:12.025837Z"
    }
   },
   "outputs": [
    {
     "data": {
      "text/html": [
       "<div>\n",
       "<style scoped>\n",
       "    .dataframe tbody tr th:only-of-type {\n",
       "        vertical-align: middle;\n",
       "    }\n",
       "\n",
       "    .dataframe tbody tr th {\n",
       "        vertical-align: top;\n",
       "    }\n",
       "\n",
       "    .dataframe thead th {\n",
       "        text-align: right;\n",
       "    }\n",
       "</style>\n",
       "<table border=\"1\" class=\"dataframe\">\n",
       "  <thead>\n",
       "    <tr style=\"text-align: right;\">\n",
       "      <th></th>\n",
       "      <th>user</th>\n",
       "      <th>item</th>\n",
       "      <th>rating</th>\n",
       "      <th>timestamp</th>\n",
       "    </tr>\n",
       "  </thead>\n",
       "  <tbody>\n",
       "    <tr>\n",
       "      <th>0</th>\n",
       "      <td>527409</td>\n",
       "      <td>0000000116</td>\n",
       "      <td>0</td>\n",
       "      <td>1395619200</td>\n",
       "    </tr>\n",
       "    <tr>\n",
       "      <th>1</th>\n",
       "      <td>1059073</td>\n",
       "      <td>0000013714</td>\n",
       "      <td>0</td>\n",
       "      <td>1357516800</td>\n",
       "    </tr>\n",
       "  </tbody>\n",
       "</table>\n",
       "</div>"
      ],
      "text/plain": [
       "      user        item  rating   timestamp\n",
       "0   527409  0000000116       0  1395619200\n",
       "1  1059073  0000013714       0  1357516800"
      ]
     },
     "execution_count": 17,
     "metadata": {},
     "output_type": "execute_result"
    }
   ],
   "source": [
    "df_train.head(2)"
   ]
  },
  {
   "cell_type": "code",
   "execution_count": 18,
   "id": "5f62796e",
   "metadata": {
    "ExecuteTime": {
     "end_time": "2022-02-06T05:33:13.837833Z",
     "start_time": "2022-02-06T05:33:12.030966Z"
    }
   },
   "outputs": [],
   "source": [
    "train_item_ids = np.sort(np.unique(df_train.item.values))"
   ]
  },
  {
   "cell_type": "code",
   "execution_count": 19,
   "id": "d54ff169",
   "metadata": {
    "ExecuteTime": {
     "end_time": "2022-02-06T05:33:14.691442Z",
     "start_time": "2022-02-06T05:33:13.838814Z"
    }
   },
   "outputs": [],
   "source": [
    "item2idx = {val:idx for idx, val in enumerate(train_item_ids)}\n",
    "df_train.item = df_train.item.apply(lambda x: item2idx[x])\n",
    "\n",
    "# Validation \n",
    "df_valid.item = df_valid.item.apply(lambda x: item2idx.get(x, -1))"
   ]
  },
  {
   "cell_type": "code",
   "execution_count": 20,
   "id": "233a01d1",
   "metadata": {
    "ExecuteTime": {
     "end_time": "2022-02-06T05:33:14.698678Z",
     "start_time": "2022-02-06T05:33:14.692392Z"
    }
   },
   "outputs": [],
   "source": [
    "df_valid = df_valid[df_valid.item > -1].copy()"
   ]
  },
  {
   "cell_type": "code",
   "execution_count": 21,
   "id": "35d3ef96",
   "metadata": {
    "ExecuteTime": {
     "end_time": "2022-02-06T05:33:14.701895Z",
     "start_time": "2022-02-06T05:33:14.699726Z"
    }
   },
   "outputs": [
    {
     "data": {
      "text/plain": [
       "(131657, 4)"
      ]
     },
     "execution_count": 21,
     "metadata": {},
     "output_type": "execute_result"
    }
   ],
   "source": [
    "df_valid.shape"
   ]
  },
  {
   "cell_type": "markdown",
   "id": "0ad17acd",
   "metadata": {},
   "source": [
    "# Dataloader"
   ]
  },
  {
   "cell_type": "code",
   "execution_count": null,
   "id": "bf05fe74",
   "metadata": {
    "ExecuteTime": {
     "end_time": "2022-02-06T05:03:56.344753Z",
     "start_time": "2022-02-06T05:03:56.335025Z"
    }
   },
   "outputs": [],
   "source": []
  },
  {
   "cell_type": "code",
   "execution_count": 45,
   "id": "09858150",
   "metadata": {
    "ExecuteTime": {
     "end_time": "2022-02-06T05:37:57.631932Z",
     "start_time": "2022-02-06T05:37:57.623156Z"
    }
   },
   "outputs": [],
   "source": [
    "class matrix_factorization():\n",
    "    def __init__(self, x1, x2, y):\n",
    "        self.x1 = torch.LongTensor(x1) \n",
    "        self.x2 = torch.LongTensor(x2)\n",
    "        self.y = torch.FloatTensor(y)\n",
    "    \n",
    "    def __len__(self):\n",
    "        return len(self.y)\n",
    "    \n",
    "    def __getitem__(self,idx):\n",
    "        return self.x1[idx], self.x2[idx], self.y[idx], "
   ]
  },
  {
   "cell_type": "code",
   "execution_count": 57,
   "id": "2535f3a0",
   "metadata": {
    "ExecuteTime": {
     "end_time": "2022-02-06T05:40:11.469566Z",
     "start_time": "2022-02-06T05:40:11.458897Z"
    }
   },
   "outputs": [],
   "source": [
    "train_ds = matrix_factorization(df_train.user.values,df_train.item.values, df_train.rating.values)\n",
    "valid_ds = matrix_factorization(df_valid.user.values,df_valid.item.values, df_valid.rating.values)"
   ]
  },
  {
   "cell_type": "code",
   "execution_count": 58,
   "id": "547f8f49",
   "metadata": {
    "ExecuteTime": {
     "end_time": "2022-02-06T05:40:11.651798Z",
     "start_time": "2022-02-06T05:40:11.646025Z"
    }
   },
   "outputs": [
    {
     "data": {
      "text/plain": [
       "178.7557"
      ]
     },
     "execution_count": 58,
     "metadata": {},
     "output_type": "execute_result"
    }
   ],
   "source": [
    "df_train.shape[0]/10000"
   ]
  },
  {
   "cell_type": "code",
   "execution_count": 59,
   "id": "80d33449",
   "metadata": {
    "ExecuteTime": {
     "end_time": "2022-02-06T05:40:11.802128Z",
     "start_time": "2022-02-06T05:40:11.796167Z"
    }
   },
   "outputs": [],
   "source": [
    "train_dl = DataLoader(train_ds, batch_size = 1000, shuffle = True)\n",
    "valid_dl = DataLoader(valid_ds, batch_size = 1000, shuffle = False)"
   ]
  },
  {
   "cell_type": "markdown",
   "id": "eef4982e",
   "metadata": {},
   "source": [
    "# Embedding Layer"
   ]
  },
  {
   "cell_type": "code",
   "execution_count": 60,
   "id": "bf5fa5f8",
   "metadata": {
    "ExecuteTime": {
     "end_time": "2022-02-06T05:40:12.109733Z",
     "start_time": "2022-02-06T05:40:12.096100Z"
    }
   },
   "outputs": [],
   "source": [
    "class MF(nn.Module):\n",
    "    def __init__(self, num_users, num_items, emb_size = 100):\n",
    "        super(MF, self).__init__()\n",
    "        self.user_emb = nn.Embedding(num_users, emb_size)\n",
    "        self.user_bias = nn.Embedding(num_users, 1)\n",
    "        self.item_emb = nn.Embedding(num_items, emb_size)\n",
    "        self.item_bias = nn.Embedding(num_items, 1)\n",
    "        #init\n",
    "        self.user_emb.weight.data.uniform_(0,0.05)\n",
    "        self.item_emb.weight.data.uniform_(0,0.05)\n",
    "        self.user_bias.weight.data.uniform_(-0.01,0.01)\n",
    "        self.item_bias.weight.data.uniform_(-0.01,0.01)\n",
    "        \n",
    "    def forward(self, u,v):\n",
    "        U = self.user_emb(u)\n",
    "        V = self.item_emb(v)\n",
    "        b_u = self.user_bias(u).squeeze()\n",
    "        b_v = self.item_bias(v).squeeze()\n",
    "        return (U*V).sum(1) + b_u + b_v\n",
    "        "
   ]
  },
  {
   "cell_type": "markdown",
   "id": "d1cc0370",
   "metadata": {
    "ExecuteTime": {
     "end_time": "2022-02-06T05:31:42.559302Z",
     "start_time": "2022-02-06T05:31:42.555750Z"
    }
   },
   "source": [
    "# Training Loop"
   ]
  },
  {
   "cell_type": "code",
   "execution_count": 61,
   "id": "9286ebed",
   "metadata": {
    "ExecuteTime": {
     "end_time": "2022-02-06T05:40:12.865266Z",
     "start_time": "2022-02-06T05:40:12.855160Z"
    }
   },
   "outputs": [],
   "source": [
    "# here we are not using data loaders because our data fits well in memory\n",
    "def train_epocs(model,train_dl, valid_dl, epochs, optimizer):\n",
    "    losses = []\n",
    "    for i in range(epochs):\n",
    "        print(f\"epoch no: {i}\")\n",
    "        model.train()\n",
    "        for users, items, ratings in train_dl:\n",
    "            y_hat = model(users, items)\n",
    "            loss = F.binary_cross_entropy(torch.sigmoid(y_hat), ratings)\n",
    "            optimizer.zero_grad()\n",
    "            loss.backward()\n",
    "            optimizer.step()\n",
    "            losses.append(loss.item())\n",
    "            \n",
    "        train_loss = np.mean(losses)\n",
    "        valid_loss,valid_auc = val_metrics(model, valid_dl)\n",
    "        print(\"train loss %.3f valid loss %.3f auc-roc %.3f\" % (train_loss, valid_loss, valid_auc))"
   ]
  },
  {
   "cell_type": "markdown",
   "id": "0fb5dd79",
   "metadata": {},
   "source": [
    "# Validation Error"
   ]
  },
  {
   "cell_type": "code",
   "execution_count": 65,
   "id": "5f5d3bf9",
   "metadata": {
    "ExecuteTime": {
     "end_time": "2022-02-06T05:40:30.847989Z",
     "start_time": "2022-02-06T05:40:30.838823Z"
    }
   },
   "outputs": [],
   "source": [
    "def val_metrics(model, valid_dl):\n",
    "    model.eval()\n",
    "    losses = []\n",
    "    y_hats = []\n",
    "    ys = []\n",
    "    for users, items, ratings in valid_dl:\n",
    "        y_hat = model(users, items)\n",
    "        loss = F.binary_cross_entropy(torch.sigmoid(y_hat), ratings)\n",
    "        y_hats.append(y_hat.detach().numpy())\n",
    "        ys.append(ratings.numpy())\n",
    "        losses.append(loss.item())\n",
    "    ys = np.concatenate(ys)\n",
    "    y_hats = np.concatenate(y_hats)\n",
    "    #print(y_hats.shape,ys.shape )\n",
    "    return np.mean(losses), roc_auc_score(ys, y_hats)"
   ]
  },
  {
   "cell_type": "code",
   "execution_count": 66,
   "id": "09df7e0e",
   "metadata": {
    "ExecuteTime": {
     "end_time": "2022-02-06T05:40:33.621354Z",
     "start_time": "2022-02-06T05:40:33.615509Z"
    }
   },
   "outputs": [
    {
     "data": {
      "text/plain": [
       "659279"
      ]
     },
     "execution_count": 66,
     "metadata": {},
     "output_type": "execute_result"
    }
   ],
   "source": [
    "num_users = len(train_user_ids)\n",
    "num_users\n",
    "num_items = len(train_item_ids)\n",
    "num_items"
   ]
  },
  {
   "cell_type": "code",
   "execution_count": 67,
   "id": "861bcf98",
   "metadata": {
    "ExecuteTime": {
     "end_time": "2022-02-06T05:40:34.196625Z",
     "start_time": "2022-02-06T05:40:33.963542Z"
    }
   },
   "outputs": [],
   "source": [
    "model = MF(num_users, num_items, emb_size=5)"
   ]
  },
  {
   "cell_type": "code",
   "execution_count": 70,
   "id": "39324764",
   "metadata": {
    "ExecuteTime": {
     "end_time": "2022-02-06T10:20:03.088737Z",
     "start_time": "2022-02-06T10:20:03.067846Z"
    }
   },
   "outputs": [],
   "source": [
    "learning_rate = 0.001\n",
    "wd=1e-5\n",
    "epochs = 10\n",
    "optimizer = torch.optim.Adam(model.parameters(), lr=learning_rate, weight_decay=wd)"
   ]
  },
  {
   "cell_type": "code",
   "execution_count": 71,
   "id": "cf7350a0",
   "metadata": {
    "ExecuteTime": {
     "end_time": "2022-02-06T10:32:16.969428Z",
     "start_time": "2022-02-06T10:20:03.966946Z"
    }
   },
   "outputs": [
    {
     "name": "stdout",
     "output_type": "stream",
     "text": [
      "epoch no: 0\n",
      "train loss 0.642 valid loss 0.625 auc-roc 0.815\n",
      "epoch no: 1\n",
      "train loss 0.638 valid loss 0.621 auc-roc 0.823\n",
      "epoch no: 2\n",
      "train loss 0.636 valid loss 0.619 auc-roc 0.825\n",
      "epoch no: 3\n",
      "train loss 0.634 valid loss 0.617 auc-roc 0.825\n",
      "epoch no: 4\n",
      "train loss 0.633 valid loss 0.617 auc-roc 0.825\n",
      "epoch no: 5\n",
      "train loss 0.633 valid loss 0.617 auc-roc 0.825\n",
      "epoch no: 6\n",
      "train loss 0.632 valid loss 0.617 auc-roc 0.825\n",
      "epoch no: 7\n",
      "train loss 0.632 valid loss 0.616 auc-roc 0.825\n",
      "epoch no: 8\n",
      "train loss 0.631 valid loss 0.616 auc-roc 0.825\n",
      "epoch no: 9\n",
      "train loss 0.631 valid loss 0.616 auc-roc 0.825\n"
     ]
    }
   ],
   "source": [
    "train_epocs(model,train_dl, valid_dl, epochs, optimizer)"
   ]
  },
  {
   "cell_type": "code",
   "execution_count": null,
   "id": "3aa542e9",
   "metadata": {},
   "outputs": [],
   "source": []
  }
 ],
 "metadata": {
  "kernelspec": {
   "display_name": "Python 3 (ipykernel)",
   "language": "python",
   "name": "python3"
  },
  "language_info": {
   "codemirror_mode": {
    "name": "ipython",
    "version": 3
   },
   "file_extension": ".py",
   "mimetype": "text/x-python",
   "name": "python",
   "nbconvert_exporter": "python",
   "pygments_lexer": "ipython3",
   "version": "3.8.2"
  }
 },
 "nbformat": 4,
 "nbformat_minor": 5
}
